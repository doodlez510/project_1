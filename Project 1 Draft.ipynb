{
 "cells": [
  {
   "cell_type": "code",
   "execution_count": 1,
   "metadata": {},
   "outputs": [],
   "source": [
    "import pandas as pd\n",
    "import numpy as np\n",
    "import requests\n",
    "import gmaps\n",
    "import matplotlib.pyplot as plt\n",
    "from census import Census\n",
    "from us import states\n",
    "from api_keys import census_key, gov_key, gkey"
   ]
  },
  {
   "cell_type": "code",
   "execution_count": 2,
   "metadata": {},
   "outputs": [],
   "source": [
    "gmaps.configure(api_key=gkey)"
   ]
  },
  {
   "cell_type": "code",
   "execution_count": 45,
   "metadata": {},
   "outputs": [],
   "source": [
    "c = Census(census_key, year=2016)"
   ]
  },
  {
   "cell_type": "code",
   "execution_count": 46,
   "metadata": {
    "scrolled": true
   },
   "outputs": [],
   "source": [
    "census_data = c.acs5.get((\"NAME\", \"B19013_001E\", \"B01003_001E\", \"B01002_001E\",\n",
    "                          \"B19301_001E\",\n",
    "                          \"B17001_002E\",\"B23025_005E\"), {'for': 'county:*'})"
   ]
  },
  {
   "cell_type": "code",
   "execution_count": 48,
   "metadata": {},
   "outputs": [
    {
     "data": {
      "text/plain": [
       "{'NAME': 'Autauga County, Alabama',\n",
       " 'B19013_001E': 53099.0,\n",
       " 'B01003_001E': 55049.0,\n",
       " 'B01002_001E': 37.8,\n",
       " 'B19301_001E': 26168.0,\n",
       " 'B17001_002E': 6697.0,\n",
       " 'B23025_005E': 1437.0,\n",
       " 'state': '01',\n",
       " 'county': '001'}"
      ]
     },
     "execution_count": 48,
     "metadata": {},
     "output_type": "execute_result"
    }
   ],
   "source": [
    "census_data[0]"
   ]
  },
  {
   "cell_type": "code",
   "execution_count": 49,
   "metadata": {},
   "outputs": [
    {
     "name": "stdout",
     "output_type": "stream",
     "text": [
      "3220\n"
     ]
    },
    {
     "data": {
      "text/html": [
       "<div>\n",
       "<style scoped>\n",
       "    .dataframe tbody tr th:only-of-type {\n",
       "        vertical-align: middle;\n",
       "    }\n",
       "\n",
       "    .dataframe tbody tr th {\n",
       "        vertical-align: top;\n",
       "    }\n",
       "\n",
       "    .dataframe thead th {\n",
       "        text-align: right;\n",
       "    }\n",
       "</style>\n",
       "<table border=\"1\" class=\"dataframe\">\n",
       "  <thead>\n",
       "    <tr style=\"text-align: right;\">\n",
       "      <th></th>\n",
       "      <th>State</th>\n",
       "      <th>County</th>\n",
       "      <th>Population</th>\n",
       "      <th>Median Age</th>\n",
       "      <th>Household Income</th>\n",
       "      <th>Per Capita Income</th>\n",
       "      <th>Poverty Count</th>\n",
       "      <th>Poverty Rate</th>\n",
       "      <th>Unemployment Rate</th>\n",
       "    </tr>\n",
       "  </thead>\n",
       "  <tbody>\n",
       "    <tr>\n",
       "      <th>0</th>\n",
       "      <td>01</td>\n",
       "      <td>001</td>\n",
       "      <td>55049.0</td>\n",
       "      <td>37.8</td>\n",
       "      <td>53099.0</td>\n",
       "      <td>26168.0</td>\n",
       "      <td>6697.0</td>\n",
       "      <td>0.121655</td>\n",
       "      <td>0.026104</td>\n",
       "    </tr>\n",
       "    <tr>\n",
       "      <th>1</th>\n",
       "      <td>01</td>\n",
       "      <td>003</td>\n",
       "      <td>199510.0</td>\n",
       "      <td>42.3</td>\n",
       "      <td>51365.0</td>\n",
       "      <td>28069.0</td>\n",
       "      <td>25551.0</td>\n",
       "      <td>0.128069</td>\n",
       "      <td>0.029507</td>\n",
       "    </tr>\n",
       "    <tr>\n",
       "      <th>2</th>\n",
       "      <td>01</td>\n",
       "      <td>005</td>\n",
       "      <td>26614.0</td>\n",
       "      <td>38.7</td>\n",
       "      <td>33956.0</td>\n",
       "      <td>17249.0</td>\n",
       "      <td>6235.0</td>\n",
       "      <td>0.234275</td>\n",
       "      <td>0.049711</td>\n",
       "    </tr>\n",
       "    <tr>\n",
       "      <th>3</th>\n",
       "      <td>01</td>\n",
       "      <td>007</td>\n",
       "      <td>22572.0</td>\n",
       "      <td>40.2</td>\n",
       "      <td>39776.0</td>\n",
       "      <td>18988.0</td>\n",
       "      <td>3390.0</td>\n",
       "      <td>0.150186</td>\n",
       "      <td>0.028487</td>\n",
       "    </tr>\n",
       "    <tr>\n",
       "      <th>4</th>\n",
       "      <td>01</td>\n",
       "      <td>009</td>\n",
       "      <td>57704.0</td>\n",
       "      <td>40.8</td>\n",
       "      <td>46212.0</td>\n",
       "      <td>21033.0</td>\n",
       "      <td>9441.0</td>\n",
       "      <td>0.163611</td>\n",
       "      <td>0.023690</td>\n",
       "    </tr>\n",
       "  </tbody>\n",
       "</table>\n",
       "</div>"
      ],
      "text/plain": [
       "  State County  Population  Median Age  Household Income  Per Capita Income  \\\n",
       "0    01    001     55049.0        37.8           53099.0            26168.0   \n",
       "1    01    003    199510.0        42.3           51365.0            28069.0   \n",
       "2    01    005     26614.0        38.7           33956.0            17249.0   \n",
       "3    01    007     22572.0        40.2           39776.0            18988.0   \n",
       "4    01    009     57704.0        40.8           46212.0            21033.0   \n",
       "\n",
       "   Poverty Count  Poverty Rate  Unemployment Rate  \n",
       "0         6697.0      0.121655           0.026104  \n",
       "1        25551.0      0.128069           0.029507  \n",
       "2         6235.0      0.234275           0.049711  \n",
       "3         3390.0      0.150186           0.028487  \n",
       "4         9441.0      0.163611           0.023690  "
      ]
     },
     "execution_count": 49,
     "metadata": {},
     "output_type": "execute_result"
    }
   ],
   "source": [
    "# Convert to DataFrame\n",
    "census_pd = pd.DataFrame(census_data)\n",
    "\n",
    "# Column Reordering\n",
    "census_pd = census_pd.rename(columns={\"B01003_001E\": \"Population\",\n",
    "                                      \"B01002_001E\": \"Median Age\",\n",
    "                                      \"B19013_001E\": \"Household Income\",\n",
    "                                      \"B19301_001E\": \"Per Capita Income\",\n",
    "                                      \"B17001_002E\": \"Poverty Count\",\n",
    "                                      \"B23025_005E\": \"Unemployment\",\n",
    "                                      \"NAME\": \"Name\", \"state\": \"State\", \"county\":\"County\"})\n",
    "\n",
    "# Add in Poverty Rate (Poverty Count / Population)\n",
    "census_pd[\"Poverty Rate\"] = census_pd[\"Poverty Count\"].astype(\n",
    "        int) / census_pd[\"Population\"].astype(int)\n",
    "\n",
    "census_pd['Unemployment Rate'] = census_pd['Unemployment'].astype(int) / census_pd['Population'].astype(int)\n",
    "# Final DataFrame\n",
    "census_pd = census_pd[[\"State\", \"County\", \"Population\", \"Median Age\", \"Household Income\",\n",
    "                       \"Per Capita Income\", \"Poverty Count\", \"Poverty Rate\",'Unemployment Rate']]\n",
    "\n",
    "# Visualize\n",
    "print(len(census_pd))\n",
    "census_pd.head()"
   ]
  },
  {
   "cell_type": "code",
   "execution_count": null,
   "metadata": {},
   "outputs": [],
   "source": [
    "# census_pd[census_pd['Household Income']<0].shape\n",
    "\n",
    "# zip_code_locs = pd.read_csv('~/Downloads/zip_code_locs.csv', dtype = {'ZIP':str, 'LAT':float, 'LNG':float})\\\n",
    "# .rename(columns = {'ZIP':'Zip Code'})\n",
    "\n",
    "# zip_code_locs.head()"
   ]
  },
  {
   "cell_type": "code",
   "execution_count": null,
   "metadata": {},
   "outputs": [],
   "source": [
    "# census_w_loc = pd.merge(census_pd, zip_code_locs, how = 'left', on = 'Zip Code')"
   ]
  },
  {
   "cell_type": "code",
   "execution_count": null,
   "metadata": {},
   "outputs": [],
   "source": [
    "# census_w_loc.head()"
   ]
  },
  {
   "cell_type": "code",
   "execution_count": 3,
   "metadata": {},
   "outputs": [],
   "source": [
    "zip_code_info = pd.read_csv('/Users/seantibbitts/Downloads/US/US.txt', sep = '\\t', header=None, dtype={1:str},\n",
    "                            names=['Country','zipcode','City','State','State Code','Unk1','Unk2','Unk3','Unk4','Lat','Lng','Unk5'])"
   ]
  },
  {
   "cell_type": "code",
   "execution_count": 4,
   "metadata": {
    "scrolled": true
   },
   "outputs": [
    {
     "data": {
      "text/html": [
       "<div>\n",
       "<style scoped>\n",
       "    .dataframe tbody tr th:only-of-type {\n",
       "        vertical-align: middle;\n",
       "    }\n",
       "\n",
       "    .dataframe tbody tr th {\n",
       "        vertical-align: top;\n",
       "    }\n",
       "\n",
       "    .dataframe thead th {\n",
       "        text-align: right;\n",
       "    }\n",
       "</style>\n",
       "<table border=\"1\" class=\"dataframe\">\n",
       "  <thead>\n",
       "    <tr style=\"text-align: right;\">\n",
       "      <th></th>\n",
       "      <th>Country</th>\n",
       "      <th>zipcode</th>\n",
       "      <th>City</th>\n",
       "      <th>State</th>\n",
       "      <th>State Code</th>\n",
       "      <th>Unk1</th>\n",
       "      <th>Unk2</th>\n",
       "      <th>Unk3</th>\n",
       "      <th>Unk4</th>\n",
       "      <th>Lat</th>\n",
       "      <th>Lng</th>\n",
       "      <th>Unk5</th>\n",
       "    </tr>\n",
       "  </thead>\n",
       "  <tbody>\n",
       "    <tr>\n",
       "      <th>0</th>\n",
       "      <td>US</td>\n",
       "      <td>99553</td>\n",
       "      <td>Akutan</td>\n",
       "      <td>Alaska</td>\n",
       "      <td>AK</td>\n",
       "      <td>Aleutians East</td>\n",
       "      <td>13.0</td>\n",
       "      <td>NaN</td>\n",
       "      <td>NaN</td>\n",
       "      <td>54.1430</td>\n",
       "      <td>-165.7854</td>\n",
       "      <td>1.0</td>\n",
       "    </tr>\n",
       "    <tr>\n",
       "      <th>1</th>\n",
       "      <td>US</td>\n",
       "      <td>99571</td>\n",
       "      <td>Cold Bay</td>\n",
       "      <td>Alaska</td>\n",
       "      <td>AK</td>\n",
       "      <td>Aleutians East</td>\n",
       "      <td>13.0</td>\n",
       "      <td>NaN</td>\n",
       "      <td>NaN</td>\n",
       "      <td>55.1858</td>\n",
       "      <td>-162.7211</td>\n",
       "      <td>1.0</td>\n",
       "    </tr>\n",
       "    <tr>\n",
       "      <th>2</th>\n",
       "      <td>US</td>\n",
       "      <td>99583</td>\n",
       "      <td>False Pass</td>\n",
       "      <td>Alaska</td>\n",
       "      <td>AK</td>\n",
       "      <td>Aleutians East</td>\n",
       "      <td>13.0</td>\n",
       "      <td>NaN</td>\n",
       "      <td>NaN</td>\n",
       "      <td>54.8542</td>\n",
       "      <td>-163.4113</td>\n",
       "      <td>1.0</td>\n",
       "    </tr>\n",
       "    <tr>\n",
       "      <th>3</th>\n",
       "      <td>US</td>\n",
       "      <td>99612</td>\n",
       "      <td>King Cove</td>\n",
       "      <td>Alaska</td>\n",
       "      <td>AK</td>\n",
       "      <td>Aleutians East</td>\n",
       "      <td>13.0</td>\n",
       "      <td>NaN</td>\n",
       "      <td>NaN</td>\n",
       "      <td>55.0628</td>\n",
       "      <td>-162.3056</td>\n",
       "      <td>1.0</td>\n",
       "    </tr>\n",
       "    <tr>\n",
       "      <th>4</th>\n",
       "      <td>US</td>\n",
       "      <td>99661</td>\n",
       "      <td>Sand Point</td>\n",
       "      <td>Alaska</td>\n",
       "      <td>AK</td>\n",
       "      <td>Aleutians East</td>\n",
       "      <td>13.0</td>\n",
       "      <td>NaN</td>\n",
       "      <td>NaN</td>\n",
       "      <td>55.3192</td>\n",
       "      <td>-160.4914</td>\n",
       "      <td>1.0</td>\n",
       "    </tr>\n",
       "  </tbody>\n",
       "</table>\n",
       "</div>"
      ],
      "text/plain": [
       "  Country zipcode        City   State State Code            Unk1  Unk2 Unk3  \\\n",
       "0      US   99553      Akutan  Alaska         AK  Aleutians East  13.0  NaN   \n",
       "1      US   99571    Cold Bay  Alaska         AK  Aleutians East  13.0  NaN   \n",
       "2      US   99583  False Pass  Alaska         AK  Aleutians East  13.0  NaN   \n",
       "3      US   99612   King Cove  Alaska         AK  Aleutians East  13.0  NaN   \n",
       "4      US   99661  Sand Point  Alaska         AK  Aleutians East  13.0  NaN   \n",
       "\n",
       "   Unk4      Lat       Lng  Unk5  \n",
       "0   NaN  54.1430 -165.7854   1.0  \n",
       "1   NaN  55.1858 -162.7211   1.0  \n",
       "2   NaN  54.8542 -163.4113   1.0  \n",
       "3   NaN  55.0628 -162.3056   1.0  \n",
       "4   NaN  55.3192 -160.4914   1.0  "
      ]
     },
     "execution_count": 4,
     "metadata": {},
     "output_type": "execute_result"
    }
   ],
   "source": [
    "zip_code_info.head()"
   ]
  },
  {
   "cell_type": "code",
   "execution_count": 5,
   "metadata": {},
   "outputs": [
    {
     "data": {
      "text/plain": [
       "Country        object\n",
       "zipcode        object\n",
       "City           object\n",
       "State          object\n",
       "State Code     object\n",
       "Unk1           object\n",
       "Unk2          float64\n",
       "Unk3           object\n",
       "Unk4          float64\n",
       "Lat           float64\n",
       "Lng           float64\n",
       "Unk5          float64\n",
       "dtype: object"
      ]
     },
     "execution_count": 5,
     "metadata": {},
     "output_type": "execute_result"
    }
   ],
   "source": [
    "zip_code_info.dtypes"
   ]
  },
  {
   "cell_type": "code",
   "execution_count": null,
   "metadata": {},
   "outputs": [],
   "source": [
    "# locations = census_w_loc[['LAT','LNG']]\n",
    "\n",
    "# fig = gmaps.figure()\n",
    "# fig.add_layer(gmaps.heatmap_layer(locations, max_intensity = 15, weights = census_w_loc['Unemployment Rate'],\n",
    "#                                   dissipating = False, point_radius = 1))\n",
    "# fig"
   ]
  },
  {
   "cell_type": "code",
   "execution_count": 23,
   "metadata": {},
   "outputs": [],
   "source": [
    "import gmaps.geojson_geometries"
   ]
  },
  {
   "cell_type": "code",
   "execution_count": 24,
   "metadata": {},
   "outputs": [],
   "source": [
    "counties_geojson = gmaps.geojson_geometries.load_geometry('us-counties')"
   ]
  },
  {
   "cell_type": "code",
   "execution_count": 12,
   "metadata": {
    "scrolled": false
   },
   "outputs": [
    {
     "data": {
      "application/vnd.jupyter.widget-view+json": {
       "model_id": "66e8ee0eafad402db09be97108a26ba8",
       "version_major": 2,
       "version_minor": 0
      },
      "text/plain": [
       "Figure(layout=FigureLayout(height='420px'))"
      ]
     },
     "metadata": {},
     "output_type": "display_data"
    }
   ],
   "source": [
    "fig = gmaps.figure()\n",
    "counties_layer = gmaps.geojson_layer(counties_geojson)\n",
    "fig.add_layer(counties_layer)\n",
    "fig"
   ]
  },
  {
   "cell_type": "code",
   "execution_count": 50,
   "metadata": {
    "scrolled": true
   },
   "outputs": [
    {
     "data": {
      "text/plain": [
       "{'type': 'Feature',\n",
       " 'properties': {'GEO_ID': '0500000US01001',\n",
       "  'STATE': '01',\n",
       "  'COUNTY': '001',\n",
       "  'NAME': 'Autauga',\n",
       "  'LSAD': 'County',\n",
       "  'CENSUSAREA': 594.436},\n",
       " 'geometry': {'type': 'Polygon',\n",
       "  'coordinates': [[[-86.496774, 32.344437],\n",
       "    [-86.717897, 32.402814],\n",
       "    [-86.814912, 32.340803],\n",
       "    [-86.890581, 32.502974],\n",
       "    [-86.917595, 32.664169],\n",
       "    [-86.71339, 32.661732],\n",
       "    [-86.714219, 32.705694],\n",
       "    [-86.413116, 32.707386],\n",
       "    [-86.411172, 32.409937],\n",
       "    [-86.496774, 32.344437]]]}}"
      ]
     },
     "execution_count": 50,
     "metadata": {},
     "output_type": "execute_result"
    }
   ],
   "source": [
    "counties_geojson['features'][0]"
   ]
  },
  {
   "cell_type": "code",
   "execution_count": 54,
   "metadata": {},
   "outputs": [],
   "source": [
    "county2unemploy = {(row['State'],row['County']):row['Unemployment Rate'] for i, row in census_pd.iterrows()}"
   ]
  },
  {
   "cell_type": "code",
   "execution_count": 55,
   "metadata": {},
   "outputs": [],
   "source": [
    "# We will need to scale the UR values to lie between 0 and 1\n",
    "min_ur = min(county2unemploy.values())\n",
    "max_ur = max(county2unemploy.values())\n",
    "ur_range = max_ur - min_ur"
   ]
  },
  {
   "cell_type": "code",
   "execution_count": 56,
   "metadata": {},
   "outputs": [],
   "source": [
    "from matplotlib.cm import viridis\n",
    "from matplotlib.colors import to_hex\n",
    "\n",
    "def calculate_color(ur):\n",
    "    # make ur a number between 0 and 1\n",
    "    normalized_ur = (ur - min_ur) / ur_range\n",
    "    \n",
    "    # invert unemployment rate so high unemployment gets a dark color\n",
    "    inverse_ur = 1.0 - normalized_ur\n",
    "    \n",
    "    # transform the unemployment rate to a matplotlib color\n",
    "    mpl_color = viridis(inverse_ur)\n",
    "\n",
    "    # transform from a matplotlib color to a valid CSS color\n",
    "    gmaps_color = to_hex(mpl_color, keep_alpha=False)\n",
    "\n",
    "    return gmaps_color"
   ]
  },
  {
   "cell_type": "code",
   "execution_count": 57,
   "metadata": {},
   "outputs": [],
   "source": [
    "colors = []\n",
    "\n",
    "for feature in counties_geojson['features']:\n",
    "    state = feature['properties']['STATE']\n",
    "    county = feature['properties']['COUNTY']\n",
    "    try:\n",
    "        ur = county2unemploy[(state,county)]\n",
    "        color = calculate_color(ur)\n",
    "    except KeyError:\n",
    "        # no UR for that county: return default color\n",
    "        color = (0, 0, 0, 0.3)\n",
    "    colors.append(color)"
   ]
  },
  {
   "cell_type": "code",
   "execution_count": 58,
   "metadata": {
    "scrolled": false
   },
   "outputs": [
    {
     "data": {
      "application/vnd.jupyter.widget-view+json": {
       "model_id": "f9570e673e4043da840888bd547eb9e6",
       "version_major": 2,
       "version_minor": 0
      },
      "text/plain": [
       "Figure(layout=FigureLayout(height='420px'))"
      ]
     },
     "metadata": {},
     "output_type": "display_data"
    }
   ],
   "source": [
    "fig = gmaps.figure()\n",
    "counties_layer = gmaps.geojson_layer(counties_geojson, fill_color=colors, stroke_color=colors, fill_opacity=0.8)\n",
    "fig.add_layer(counties_layer)\n",
    "fig"
   ]
  },
  {
   "cell_type": "markdown",
   "metadata": {},
   "source": [
    "### Solar Installs"
   ]
  },
  {
   "cell_type": "code",
   "execution_count": null,
   "metadata": {},
   "outputs": [],
   "source": [
    "# url = f'https://developer.nrel.gov/api/solar/open_pv/installs/index?api_key={gov_key}'"
   ]
  },
  {
   "cell_type": "code",
   "execution_count": null,
   "metadata": {},
   "outputs": [],
   "source": [
    "# requests.get(url)"
   ]
  },
  {
   "cell_type": "code",
   "execution_count": 6,
   "metadata": {
    "scrolled": true
   },
   "outputs": [
    {
     "name": "stderr",
     "output_type": "stream",
     "text": [
      "/anaconda3/lib/python3.7/site-packages/IPython/core/interactiveshell.py:3020: DtypeWarning: Columns (2,5,8,12,13,14,15,16,20,23,25,26,27,28,32,50) have mixed types. Specify dtype option on import or set low_memory=False.\n",
      "  interactivity=interactivity, compiler=compiler, result=result)\n"
     ]
    }
   ],
   "source": [
    "open_pv = pd.read_csv('/Users/seantibbitts/Downloads/openpv_all.csv', dtype = {'zipcode':str})"
   ]
  },
  {
   "cell_type": "code",
   "execution_count": 7,
   "metadata": {},
   "outputs": [
    {
     "data": {
      "text/html": [
       "<div>\n",
       "<style scoped>\n",
       "    .dataframe tbody tr th:only-of-type {\n",
       "        vertical-align: middle;\n",
       "    }\n",
       "\n",
       "    .dataframe tbody tr th {\n",
       "        vertical-align: top;\n",
       "    }\n",
       "\n",
       "    .dataframe thead th {\n",
       "        text-align: right;\n",
       "    }\n",
       "</style>\n",
       "<table border=\"1\" class=\"dataframe\">\n",
       "  <thead>\n",
       "    <tr style=\"text-align: right;\">\n",
       "      <th></th>\n",
       "      <th>state</th>\n",
       "      <th>date_installed</th>\n",
       "      <th>incentive_prog_names</th>\n",
       "      <th>type</th>\n",
       "      <th>size_kw</th>\n",
       "      <th>appraised</th>\n",
       "      <th>zipcode</th>\n",
       "      <th>install_type</th>\n",
       "      <th>installer</th>\n",
       "      <th>cost_per_watt</th>\n",
       "      <th>...</th>\n",
       "      <th>new_constr</th>\n",
       "      <th>effic_1</th>\n",
       "      <th>cust_county</th>\n",
       "      <th>tracking</th>\n",
       "      <th>inv_model_clean</th>\n",
       "      <th>mod_cost_real</th>\n",
       "      <th>inv_cost_real</th>\n",
       "      <th>bos_powerclerk_real</th>\n",
       "      <th>permitting_real</th>\n",
       "      <th>3rdparty</th>\n",
       "    </tr>\n",
       "  </thead>\n",
       "  <tbody>\n",
       "    <tr>\n",
       "      <th>0</th>\n",
       "      <td>TX</td>\n",
       "      <td>12/12/2013</td>\n",
       "      <td>Austin Energy</td>\n",
       "      <td>uir</td>\n",
       "      <td>10.560</td>\n",
       "      <td>NaN</td>\n",
       "      <td>78702</td>\n",
       "      <td>residential</td>\n",
       "      <td>NaN</td>\n",
       "      <td>2.897777</td>\n",
       "      <td>...</td>\n",
       "      <td>NaN</td>\n",
       "      <td>NaN</td>\n",
       "      <td>NaN</td>\n",
       "      <td>NaN</td>\n",
       "      <td>NaN</td>\n",
       "      <td>NaN</td>\n",
       "      <td>NaN</td>\n",
       "      <td>NaN</td>\n",
       "      <td>NaN</td>\n",
       "      <td>NaN</td>\n",
       "    </tr>\n",
       "    <tr>\n",
       "      <th>1</th>\n",
       "      <td>TX</td>\n",
       "      <td>07/11/2014</td>\n",
       "      <td>Austin Energy</td>\n",
       "      <td>uir</td>\n",
       "      <td>12.720</td>\n",
       "      <td>NaN</td>\n",
       "      <td>78702</td>\n",
       "      <td>residential</td>\n",
       "      <td>NaN</td>\n",
       "      <td>3.144654</td>\n",
       "      <td>...</td>\n",
       "      <td>NaN</td>\n",
       "      <td>NaN</td>\n",
       "      <td>NaN</td>\n",
       "      <td>NaN</td>\n",
       "      <td>NaN</td>\n",
       "      <td>NaN</td>\n",
       "      <td>NaN</td>\n",
       "      <td>NaN</td>\n",
       "      <td>NaN</td>\n",
       "      <td>NaN</td>\n",
       "    </tr>\n",
       "    <tr>\n",
       "      <th>2</th>\n",
       "      <td>TX</td>\n",
       "      <td>01/17/2014</td>\n",
       "      <td>Austin Energy</td>\n",
       "      <td>uir</td>\n",
       "      <td>5.400</td>\n",
       "      <td>NaN</td>\n",
       "      <td>78702</td>\n",
       "      <td>residential</td>\n",
       "      <td>NaN</td>\n",
       "      <td>4.197330</td>\n",
       "      <td>...</td>\n",
       "      <td>NaN</td>\n",
       "      <td>NaN</td>\n",
       "      <td>NaN</td>\n",
       "      <td>NaN</td>\n",
       "      <td>NaN</td>\n",
       "      <td>NaN</td>\n",
       "      <td>NaN</td>\n",
       "      <td>NaN</td>\n",
       "      <td>NaN</td>\n",
       "      <td>NaN</td>\n",
       "    </tr>\n",
       "    <tr>\n",
       "      <th>3</th>\n",
       "      <td>IN</td>\n",
       "      <td>10/06/2017</td>\n",
       "      <td>NaN</td>\n",
       "      <td>uir</td>\n",
       "      <td>6.785</td>\n",
       "      <td>NaN</td>\n",
       "      <td>47403</td>\n",
       "      <td>Residential</td>\n",
       "      <td>Whole Sun Designs</td>\n",
       "      <td>2.590000</td>\n",
       "      <td>...</td>\n",
       "      <td>NaN</td>\n",
       "      <td>NaN</td>\n",
       "      <td>NaN</td>\n",
       "      <td>NaN</td>\n",
       "      <td>NaN</td>\n",
       "      <td>NaN</td>\n",
       "      <td>NaN</td>\n",
       "      <td>NaN</td>\n",
       "      <td>NaN</td>\n",
       "      <td>NaN</td>\n",
       "    </tr>\n",
       "    <tr>\n",
       "      <th>4</th>\n",
       "      <td>IN</td>\n",
       "      <td>10/06/2017</td>\n",
       "      <td>NaN</td>\n",
       "      <td>uir</td>\n",
       "      <td>4.720</td>\n",
       "      <td>NaN</td>\n",
       "      <td>47408</td>\n",
       "      <td>Residential</td>\n",
       "      <td>Whole Sun Designs</td>\n",
       "      <td>2.570000</td>\n",
       "      <td>...</td>\n",
       "      <td>NaN</td>\n",
       "      <td>NaN</td>\n",
       "      <td>NaN</td>\n",
       "      <td>NaN</td>\n",
       "      <td>NaN</td>\n",
       "      <td>NaN</td>\n",
       "      <td>NaN</td>\n",
       "      <td>NaN</td>\n",
       "      <td>NaN</td>\n",
       "      <td>NaN</td>\n",
       "    </tr>\n",
       "  </tbody>\n",
       "</table>\n",
       "<p>5 rows × 81 columns</p>\n",
       "</div>"
      ],
      "text/plain": [
       "  state date_installed incentive_prog_names type  size_kw appraised zipcode  \\\n",
       "0    TX     12/12/2013        Austin Energy  uir   10.560       NaN   78702   \n",
       "1    TX     07/11/2014        Austin Energy  uir   12.720       NaN   78702   \n",
       "2    TX     01/17/2014        Austin Energy  uir    5.400       NaN   78702   \n",
       "3    IN     10/06/2017                  NaN  uir    6.785       NaN   47403   \n",
       "4    IN     10/06/2017                  NaN  uir    4.720       NaN   47408   \n",
       "\n",
       "  install_type          installer  cost_per_watt    ...     new_constr  \\\n",
       "0  residential                NaN       2.897777    ...            NaN   \n",
       "1  residential                NaN       3.144654    ...            NaN   \n",
       "2  residential                NaN       4.197330    ...            NaN   \n",
       "3  Residential  Whole Sun Designs       2.590000    ...            NaN   \n",
       "4  Residential  Whole Sun Designs       2.570000    ...            NaN   \n",
       "\n",
       "   effic_1 cust_county tracking inv_model_clean mod_cost_real inv_cost_real  \\\n",
       "0      NaN         NaN      NaN             NaN           NaN           NaN   \n",
       "1      NaN         NaN      NaN             NaN           NaN           NaN   \n",
       "2      NaN         NaN      NaN             NaN           NaN           NaN   \n",
       "3      NaN         NaN      NaN             NaN           NaN           NaN   \n",
       "4      NaN         NaN      NaN             NaN           NaN           NaN   \n",
       "\n",
       "  bos_powerclerk_real  permitting_real  3rdparty  \n",
       "0                 NaN              NaN       NaN  \n",
       "1                 NaN              NaN       NaN  \n",
       "2                 NaN              NaN       NaN  \n",
       "3                 NaN              NaN       NaN  \n",
       "4                 NaN              NaN       NaN  \n",
       "\n",
       "[5 rows x 81 columns]"
      ]
     },
     "execution_count": 7,
     "metadata": {},
     "output_type": "execute_result"
    }
   ],
   "source": [
    "open_pv.head()"
   ]
  },
  {
   "cell_type": "code",
   "execution_count": 8,
   "metadata": {},
   "outputs": [
    {
     "data": {
      "text/plain": [
       "(1020945, 81)"
      ]
     },
     "execution_count": 8,
     "metadata": {},
     "output_type": "execute_result"
    }
   ],
   "source": [
    "open_pv.shape"
   ]
  },
  {
   "cell_type": "code",
   "execution_count": 9,
   "metadata": {},
   "outputs": [
    {
     "data": {
      "text/plain": [
       "Index(['state', 'date_installed', 'incentive_prog_names', 'type', 'size_kw',\n",
       "       'appraised', 'zipcode', 'install_type', 'installer', 'cost_per_watt',\n",
       "       'cost', 'lbnl_tts_version_year', 'lbnl_tts', 'city', 'utility_clean',\n",
       "       'tech_1', 'model1_clean', 'county', 'annual_PV_prod',\n",
       "       'annual_insolation', 'rebate', 'sales_tax_cost', 'tilt1',\n",
       "       'tracking_type', 'azimuth1', 'manuf2_clean', 'manuf3_clean',\n",
       "       'manuf1_clean', 'inv_man_clean', 'reported_annual_energy_prod',\n",
       "       'incentivetype', 'year_app_implied', 'year', 'npv_fit_real',\n",
       "       'application_implied', 'npv_pbi_real', 'other_incentive',\n",
       "       'appraised_cluster', 'inflation', 'other_incentive_real',\n",
       "       'zip_available', 'cust_city', 'pbi', 'pbi_real', 'pbi_length',\n",
       "       'application', 'fit_length', 'fit_rate', 'fit_payment',\n",
       "       '_3rdparty_implied', 'utility', 'install_price_real_w', 'install_price',\n",
       "       'installer_clean', 'manuf1_', 'inverter_reported', 'rebate_real',\n",
       "       'model1', '_3rdparty', 'inv_model_reported', 'microinv_solarhub',\n",
       "       'bipv_3', 'bipv_2', 'bipv_1', 'sales_tax_rate', 'sales_tax_cost_real',\n",
       "       'bipv_all', 'thinfilm_all', 'china', 'sys_sizeac', 'pbi_rate',\n",
       "       'new_constr', 'effic_1', 'cust_county', 'tracking', 'inv_model_clean',\n",
       "       'mod_cost_real', 'inv_cost_real', 'bos_powerclerk_real',\n",
       "       'permitting_real', '3rdparty'],\n",
       "      dtype='object')"
      ]
     },
     "execution_count": 9,
     "metadata": {},
     "output_type": "execute_result"
    }
   ],
   "source": [
    "open_pv.columns"
   ]
  },
  {
   "cell_type": "code",
   "execution_count": 10,
   "metadata": {
    "scrolled": true
   },
   "outputs": [
    {
     "data": {
      "text/plain": [
       "01/01/1998       2\n",
       "01/01/1999       6\n",
       "01/01/2000      22\n",
       "01/01/2001      10\n",
       "01/01/2002      10\n",
       "01/01/2003       5\n",
       "01/01/2004      24\n",
       "01/01/2005      39\n",
       "01/01/2006      35\n",
       "01/01/2007      65\n",
       "01/01/2008     150\n",
       "01/01/2009     290\n",
       "01/01/2010      25\n",
       "01/01/2011      35\n",
       "01/01/2012      69\n",
       "01/01/2013      15\n",
       "01/01/2014      13\n",
       "01/01/2015      91\n",
       "01/01/2016       3\n",
       "01/01/2017       1\n",
       "01/02/1999       1\n",
       "01/02/2002      18\n",
       "01/02/2003       8\n",
       "01/02/2004       1\n",
       "01/02/2005       1\n",
       "01/02/2006      10\n",
       "01/02/2007      10\n",
       "01/02/2008      50\n",
       "01/02/2009     148\n",
       "01/02/2010       4\n",
       "              ... \n",
       "12/30/2005      59\n",
       "12/30/2006      14\n",
       "12/30/2007      16\n",
       "12/30/2008     145\n",
       "12/30/2009     373\n",
       "12/30/2010     504\n",
       "12/30/2011     492\n",
       "12/30/2012      19\n",
       "12/30/2013     654\n",
       "12/30/2014    1127\n",
       "12/30/2015    1065\n",
       "12/30/2016       2\n",
       "12/31/1969     119\n",
       "12/31/1999       2\n",
       "12/31/2001      35\n",
       "12/31/2002      17\n",
       "12/31/2003      15\n",
       "12/31/2004      47\n",
       "12/31/2005      12\n",
       "12/31/2006      23\n",
       "12/31/2007      88\n",
       "12/31/2008     146\n",
       "12/31/2009     286\n",
       "12/31/2010     119\n",
       "12/31/2011      63\n",
       "12/31/2012     824\n",
       "12/31/2013     826\n",
       "12/31/2014    1302\n",
       "12/31/2015    1259\n",
       "NaN              5\n",
       "Name: date_installed, Length: 5848, dtype: int64"
      ]
     },
     "execution_count": 10,
     "metadata": {},
     "output_type": "execute_result"
    }
   ],
   "source": [
    "open_pv['date_installed'].value_counts(dropna = False).sort_index()"
   ]
  },
  {
   "cell_type": "code",
   "execution_count": 11,
   "metadata": {},
   "outputs": [],
   "source": [
    "open_pv['date_installed_dt'] = pd.to_datetime(open_pv['date_installed'])"
   ]
  },
  {
   "cell_type": "code",
   "execution_count": 12,
   "metadata": {
    "scrolled": true
   },
   "outputs": [
    {
     "data": {
      "text/plain": [
       "1909-07-07      4\n",
       "1969-12-31    119\n",
       "1983-06-01      1\n",
       "1983-11-14      1\n",
       "1984-12-01      1\n",
       "1986-12-01      1\n",
       "1988-08-23      1\n",
       "1992-12-01      1\n",
       "1994-01-25      1\n",
       "1994-02-01      1\n",
       "1994-03-08      2\n",
       "1994-03-16      2\n",
       "1994-03-31      1\n",
       "1994-06-01      1\n",
       "1994-10-07      1\n",
       "1994-12-01      1\n",
       "1994-12-30      1\n",
       "1995-03-03      1\n",
       "1995-06-01      1\n",
       "1995-06-30      1\n",
       "1995-07-05      2\n",
       "1995-07-26      1\n",
       "1995-07-27      1\n",
       "1995-07-28      1\n",
       "1995-08-01      1\n",
       "1995-08-02      1\n",
       "1995-08-10      1\n",
       "1995-09-01      1\n",
       "1995-10-27      1\n",
       "1995-12-30      1\n",
       "             ... \n",
       "2019-01-10      2\n",
       "2019-01-11      1\n",
       "2019-01-15      1\n",
       "2019-01-16      1\n",
       "2019-01-18      1\n",
       "2019-01-21      1\n",
       "2019-01-23      1\n",
       "2019-01-25      1\n",
       "2019-01-29      1\n",
       "2019-02-01      1\n",
       "2019-02-05      1\n",
       "2019-02-06      2\n",
       "2019-02-08      1\n",
       "2019-02-11      3\n",
       "2019-02-12      1\n",
       "2019-02-13      1\n",
       "2019-02-20      1\n",
       "2019-02-22      1\n",
       "2019-02-25      1\n",
       "2019-02-26      1\n",
       "2019-02-27      2\n",
       "2019-03-01      1\n",
       "2019-03-05      1\n",
       "2019-03-13      1\n",
       "2019-03-15      1\n",
       "2019-03-22      1\n",
       "2019-03-25      1\n",
       "2019-03-26      1\n",
       "2019-03-29      1\n",
       "NaT             5\n",
       "Name: date_installed_dt, Length: 5848, dtype: int64"
      ]
     },
     "execution_count": 12,
     "metadata": {},
     "output_type": "execute_result"
    }
   ],
   "source": [
    "open_pv['date_installed_dt'].value_counts(dropna = False).sort_index()"
   ]
  },
  {
   "cell_type": "code",
   "execution_count": 26,
   "metadata": {},
   "outputs": [],
   "source": [
    "# Probably want to limit to more recent installs\n",
    "open_pv1 = open_pv[open_pv['date_installed_dt'] > '2016'].copy()"
   ]
  },
  {
   "cell_type": "code",
   "execution_count": 27,
   "metadata": {},
   "outputs": [
    {
     "data": {
      "text/plain": [
       "(975, 82)"
      ]
     },
     "execution_count": 27,
     "metadata": {},
     "output_type": "execute_result"
    }
   ],
   "source": [
    "open_pv1.shape"
   ]
  },
  {
   "cell_type": "code",
   "execution_count": 28,
   "metadata": {},
   "outputs": [],
   "source": [
    "# open_pv2 = open_pv[open_pv['zipcode'].notnull()].copy()\n",
    "# Above not necessary after limiting to recent\n",
    "open_pv2 = open_pv1.copy()"
   ]
  },
  {
   "cell_type": "code",
   "execution_count": 29,
   "metadata": {
    "scrolled": true
   },
   "outputs": [
    {
     "data": {
      "text/plain": [
       "state                                  object\n",
       "date_installed                         object\n",
       "incentive_prog_names                   object\n",
       "type                                   object\n",
       "size_kw                               float64\n",
       "appraised                              object\n",
       "zipcode                                object\n",
       "install_type                           object\n",
       "installer                              object\n",
       "cost_per_watt                         float64\n",
       "cost                                  float64\n",
       "lbnl_tts_version_year                 float64\n",
       "lbnl_tts                               object\n",
       "city                                   object\n",
       "utility_clean                          object\n",
       "tech_1                                 object\n",
       "model1_clean                           object\n",
       "county                                 object\n",
       "annual_PV_prod                        float64\n",
       "annual_insolation                     float64\n",
       "rebate                                 object\n",
       "sales_tax_cost                        float64\n",
       "tilt1                                 float64\n",
       "tracking_type                          object\n",
       "azimuth1                              float64\n",
       "manuf2_clean                           object\n",
       "manuf3_clean                           object\n",
       "manuf1_clean                           object\n",
       "inv_man_clean                          object\n",
       "reported_annual_energy_prod           float64\n",
       "                                    ...      \n",
       "install_price                         float64\n",
       "installer_clean                       float64\n",
       "manuf1_                               float64\n",
       "inverter_reported                     float64\n",
       "rebate_real                           float64\n",
       "model1                                float64\n",
       "_3rdparty                             float64\n",
       "inv_model_reported                    float64\n",
       "microinv_solarhub                     float64\n",
       "bipv_3                                float64\n",
       "bipv_2                                float64\n",
       "bipv_1                                float64\n",
       "sales_tax_rate                        float64\n",
       "sales_tax_cost_real                   float64\n",
       "bipv_all                              float64\n",
       "thinfilm_all                          float64\n",
       "china                                 float64\n",
       "sys_sizeac                            float64\n",
       "pbi_rate                              float64\n",
       "new_constr                            float64\n",
       "effic_1                               float64\n",
       "cust_county                           float64\n",
       "tracking                              float64\n",
       "inv_model_clean                       float64\n",
       "mod_cost_real                         float64\n",
       "inv_cost_real                         float64\n",
       "bos_powerclerk_real                   float64\n",
       "permitting_real                       float64\n",
       "3rdparty                              float64\n",
       "date_installed_dt              datetime64[ns]\n",
       "Length: 82, dtype: object"
      ]
     },
     "execution_count": 29,
     "metadata": {},
     "output_type": "execute_result"
    }
   ],
   "source": [
    "open_pv2.dtypes"
   ]
  },
  {
   "cell_type": "code",
   "execution_count": 30,
   "metadata": {},
   "outputs": [],
   "source": [
    "open_pv_w_loc = pd.merge(open_pv2, zip_code_info, how = 'left', on='zipcode')"
   ]
  },
  {
   "cell_type": "code",
   "execution_count": 31,
   "metadata": {},
   "outputs": [
    {
     "data": {
      "text/html": [
       "<div>\n",
       "<style scoped>\n",
       "    .dataframe tbody tr th:only-of-type {\n",
       "        vertical-align: middle;\n",
       "    }\n",
       "\n",
       "    .dataframe tbody tr th {\n",
       "        vertical-align: top;\n",
       "    }\n",
       "\n",
       "    .dataframe thead th {\n",
       "        text-align: right;\n",
       "    }\n",
       "</style>\n",
       "<table border=\"1\" class=\"dataframe\">\n",
       "  <thead>\n",
       "    <tr style=\"text-align: right;\">\n",
       "      <th></th>\n",
       "      <th>state</th>\n",
       "      <th>date_installed</th>\n",
       "      <th>incentive_prog_names</th>\n",
       "      <th>type</th>\n",
       "      <th>size_kw</th>\n",
       "      <th>appraised</th>\n",
       "      <th>zipcode</th>\n",
       "      <th>install_type</th>\n",
       "      <th>installer</th>\n",
       "      <th>cost_per_watt</th>\n",
       "      <th>...</th>\n",
       "      <th>City</th>\n",
       "      <th>State</th>\n",
       "      <th>State Code</th>\n",
       "      <th>Unk1</th>\n",
       "      <th>Unk2</th>\n",
       "      <th>Unk3</th>\n",
       "      <th>Unk4</th>\n",
       "      <th>Lat</th>\n",
       "      <th>Lng</th>\n",
       "      <th>Unk5</th>\n",
       "    </tr>\n",
       "  </thead>\n",
       "  <tbody>\n",
       "    <tr>\n",
       "      <th>0</th>\n",
       "      <td>IN</td>\n",
       "      <td>10/06/2017</td>\n",
       "      <td>NaN</td>\n",
       "      <td>uir</td>\n",
       "      <td>6.785</td>\n",
       "      <td>NaN</td>\n",
       "      <td>47403</td>\n",
       "      <td>Residential</td>\n",
       "      <td>Whole Sun Designs</td>\n",
       "      <td>2.59</td>\n",
       "      <td>...</td>\n",
       "      <td>Bloomington</td>\n",
       "      <td>Indiana</td>\n",
       "      <td>IN</td>\n",
       "      <td>Monroe</td>\n",
       "      <td>105.0</td>\n",
       "      <td>NaN</td>\n",
       "      <td>NaN</td>\n",
       "      <td>39.1263</td>\n",
       "      <td>-86.5769</td>\n",
       "      <td>4.0</td>\n",
       "    </tr>\n",
       "    <tr>\n",
       "      <th>1</th>\n",
       "      <td>IN</td>\n",
       "      <td>10/06/2017</td>\n",
       "      <td>NaN</td>\n",
       "      <td>uir</td>\n",
       "      <td>4.720</td>\n",
       "      <td>NaN</td>\n",
       "      <td>47408</td>\n",
       "      <td>Residential</td>\n",
       "      <td>Whole Sun Designs</td>\n",
       "      <td>2.57</td>\n",
       "      <td>...</td>\n",
       "      <td>Bloomington</td>\n",
       "      <td>Indiana</td>\n",
       "      <td>IN</td>\n",
       "      <td>Monroe</td>\n",
       "      <td>105.0</td>\n",
       "      <td>NaN</td>\n",
       "      <td>NaN</td>\n",
       "      <td>39.2303</td>\n",
       "      <td>-86.4692</td>\n",
       "      <td>4.0</td>\n",
       "    </tr>\n",
       "    <tr>\n",
       "      <th>2</th>\n",
       "      <td>IN</td>\n",
       "      <td>10/13/2017</td>\n",
       "      <td>NaN</td>\n",
       "      <td>uir</td>\n",
       "      <td>12.390</td>\n",
       "      <td>NaN</td>\n",
       "      <td>47429</td>\n",
       "      <td>Residential</td>\n",
       "      <td>Whole Sun Designs</td>\n",
       "      <td>2.60</td>\n",
       "      <td>...</td>\n",
       "      <td>Ellettsville</td>\n",
       "      <td>Indiana</td>\n",
       "      <td>IN</td>\n",
       "      <td>Monroe</td>\n",
       "      <td>105.0</td>\n",
       "      <td>NaN</td>\n",
       "      <td>NaN</td>\n",
       "      <td>39.2545</td>\n",
       "      <td>-86.6196</td>\n",
       "      <td>4.0</td>\n",
       "    </tr>\n",
       "    <tr>\n",
       "      <th>3</th>\n",
       "      <td>IN</td>\n",
       "      <td>10/17/2017</td>\n",
       "      <td>NaN</td>\n",
       "      <td>uir</td>\n",
       "      <td>6.700</td>\n",
       "      <td>NaN</td>\n",
       "      <td>47401</td>\n",
       "      <td>Residential</td>\n",
       "      <td>Whole Sun Designs</td>\n",
       "      <td>2.28</td>\n",
       "      <td>...</td>\n",
       "      <td>Bloomington</td>\n",
       "      <td>Indiana</td>\n",
       "      <td>IN</td>\n",
       "      <td>Monroe</td>\n",
       "      <td>105.0</td>\n",
       "      <td>NaN</td>\n",
       "      <td>NaN</td>\n",
       "      <td>39.1401</td>\n",
       "      <td>-86.5083</td>\n",
       "      <td>4.0</td>\n",
       "    </tr>\n",
       "    <tr>\n",
       "      <th>4</th>\n",
       "      <td>IN</td>\n",
       "      <td>10/23/2017</td>\n",
       "      <td>NaN</td>\n",
       "      <td>uir</td>\n",
       "      <td>4.130</td>\n",
       "      <td>NaN</td>\n",
       "      <td>47404</td>\n",
       "      <td>Residential</td>\n",
       "      <td>Whole Sun Designs</td>\n",
       "      <td>2.62</td>\n",
       "      <td>...</td>\n",
       "      <td>Bloomington</td>\n",
       "      <td>Indiana</td>\n",
       "      <td>IN</td>\n",
       "      <td>Monroe</td>\n",
       "      <td>105.0</td>\n",
       "      <td>NaN</td>\n",
       "      <td>NaN</td>\n",
       "      <td>39.1950</td>\n",
       "      <td>-86.5757</td>\n",
       "      <td>4.0</td>\n",
       "    </tr>\n",
       "  </tbody>\n",
       "</table>\n",
       "<p>5 rows × 93 columns</p>\n",
       "</div>"
      ],
      "text/plain": [
       "  state date_installed incentive_prog_names type  size_kw appraised zipcode  \\\n",
       "0    IN     10/06/2017                  NaN  uir    6.785       NaN   47403   \n",
       "1    IN     10/06/2017                  NaN  uir    4.720       NaN   47408   \n",
       "2    IN     10/13/2017                  NaN  uir   12.390       NaN   47429   \n",
       "3    IN     10/17/2017                  NaN  uir    6.700       NaN   47401   \n",
       "4    IN     10/23/2017                  NaN  uir    4.130       NaN   47404   \n",
       "\n",
       "  install_type          installer  cost_per_watt  ...           City    State  \\\n",
       "0  Residential  Whole Sun Designs           2.59  ...    Bloomington  Indiana   \n",
       "1  Residential  Whole Sun Designs           2.57  ...    Bloomington  Indiana   \n",
       "2  Residential  Whole Sun Designs           2.60  ...   Ellettsville  Indiana   \n",
       "3  Residential  Whole Sun Designs           2.28  ...    Bloomington  Indiana   \n",
       "4  Residential  Whole Sun Designs           2.62  ...    Bloomington  Indiana   \n",
       "\n",
       "  State Code    Unk1   Unk2 Unk3 Unk4      Lat      Lng  Unk5  \n",
       "0         IN  Monroe  105.0  NaN  NaN  39.1263 -86.5769   4.0  \n",
       "1         IN  Monroe  105.0  NaN  NaN  39.2303 -86.4692   4.0  \n",
       "2         IN  Monroe  105.0  NaN  NaN  39.2545 -86.6196   4.0  \n",
       "3         IN  Monroe  105.0  NaN  NaN  39.1401 -86.5083   4.0  \n",
       "4         IN  Monroe  105.0  NaN  NaN  39.1950 -86.5757   4.0  \n",
       "\n",
       "[5 rows x 93 columns]"
      ]
     },
     "execution_count": 31,
     "metadata": {},
     "output_type": "execute_result"
    }
   ],
   "source": [
    "open_pv_w_loc.head()"
   ]
  },
  {
   "cell_type": "code",
   "execution_count": 32,
   "metadata": {},
   "outputs": [
    {
     "data": {
      "text/plain": [
       "(0, 93)"
      ]
     },
     "execution_count": 32,
     "metadata": {},
     "output_type": "execute_result"
    }
   ],
   "source": [
    "# Some null lats and longs, but not many\n",
    "# (None after limiting to 2016+)\n",
    "open_pv_w_loc[open_pv_w_loc['Lat'].isnull()].shape"
   ]
  },
  {
   "cell_type": "code",
   "execution_count": 33,
   "metadata": {},
   "outputs": [],
   "source": [
    "# Drop out null locations\n",
    "open_pv_w_loc2 = open_pv_w_loc[open_pv_w_loc['Lat'].notnull() & open_pv_w_loc['Lng'].notnull()].copy()"
   ]
  },
  {
   "cell_type": "code",
   "execution_count": 34,
   "metadata": {},
   "outputs": [],
   "source": [
    "min_size = open_pv_w_loc2['size_kw'].min()\n",
    "max_size = open_pv_w_loc2['size_kw'].max()\n",
    "size_range = max_size - min_size\n",
    "open_pv_w_loc2['size_normed'] = (10 * (open_pv_w_loc2['size_kw'] - min_size)/size_range + 1).astype(int)"
   ]
  },
  {
   "cell_type": "code",
   "execution_count": 35,
   "metadata": {},
   "outputs": [],
   "source": [
    "fig = gmaps.figure()\n",
    "install_locs = open_pv_w_loc2[['Lat','Lng']]\n",
    "size = [int(x) for i, x in open_pv_w_loc2['size_normed'].iteritems()]"
   ]
  },
  {
   "cell_type": "code",
   "execution_count": 36,
   "metadata": {},
   "outputs": [],
   "source": [
    "install_layer = gmaps.symbol_layer(install_locs, fill_opacity=.5, stroke_opacity = .5)"
   ]
  },
  {
   "cell_type": "code",
   "execution_count": 37,
   "metadata": {},
   "outputs": [],
   "source": [
    "fig.add_layer(install_layer)"
   ]
  },
  {
   "cell_type": "code",
   "execution_count": 38,
   "metadata": {},
   "outputs": [
    {
     "data": {
      "application/vnd.jupyter.widget-view+json": {
       "model_id": "fc8b40e4e6434c66a6317b079ae7e98e",
       "version_major": 2,
       "version_minor": 0
      },
      "text/plain": [
       "Figure(layout=FigureLayout(height='420px'))"
      ]
     },
     "metadata": {},
     "output_type": "display_data"
    }
   ],
   "source": [
    "fig"
   ]
  },
  {
   "cell_type": "code",
   "execution_count": 132,
   "metadata": {
    "scrolled": true
   },
   "outputs": [],
   "source": [
    "# installs = pd.DataFrame(results['result'])\n",
    "\n",
    "# installs.shape\n",
    "\n",
    "# installs.head()\n",
    "\n",
    "# zip_code_locs.head()\n",
    "\n",
    "# installs_w_loc = pd.merge(installs, zip_code_locs, how = 'left', left_on = 'zipcode', right_on = 'Zip Code')\n",
    "\n",
    "# installs_w_loc.head()\n",
    "\n",
    "# min_size = installs_w_loc['size_kw'].min()\n",
    "# max_size = installs_w_loc['size_kw'].max()\n",
    "# size_range = max_size - min_size\n",
    "# installs_w_loc['size_normed'] = (10 * (installs_w_loc['size_kw'] - min_size)/size_range + 1).astype(int)\n",
    "\n",
    "# installs_w_loc['size_normed'].value_counts(dropna = False)\n",
    "\n",
    "# fig = gmaps.figure()\n",
    "# install_locs = installs_w_loc[['LAT','LNG']]\n",
    "# size = [int(x) for i, x in installs_w_loc['size_normed'].iteritems()]\n",
    "# fig.add_layer(gmaps.symbol_layer(install_locs, scale = size, fill_opacity=.5, stroke_opacity = .5))\n",
    "# fig"
   ]
  },
  {
   "cell_type": "markdown",
   "metadata": {},
   "source": [
    "### Sunniness"
   ]
  },
  {
   "cell_type": "code",
   "execution_count": 13,
   "metadata": {},
   "outputs": [],
   "source": [
    "sunny = pd.read_csv('/Users/seantibbitts/Downloads/North America Land Data Assimilation System (NLDAS) Daily Sunlight (KJm²) (1979-2011) (1).txt',\n",
    "                    sep = '\\t', dtype = {'County Code':str}, encoding = 'ISO-8859-1')"
   ]
  },
  {
   "cell_type": "code",
   "execution_count": 51,
   "metadata": {
    "scrolled": true
   },
   "outputs": [
    {
     "data": {
      "text/html": [
       "<div>\n",
       "<style scoped>\n",
       "    .dataframe tbody tr th:only-of-type {\n",
       "        vertical-align: middle;\n",
       "    }\n",
       "\n",
       "    .dataframe tbody tr th {\n",
       "        vertical-align: top;\n",
       "    }\n",
       "\n",
       "    .dataframe thead th {\n",
       "        text-align: right;\n",
       "    }\n",
       "</style>\n",
       "<table border=\"1\" class=\"dataframe\">\n",
       "  <thead>\n",
       "    <tr style=\"text-align: right;\">\n",
       "      <th></th>\n",
       "      <th>Notes</th>\n",
       "      <th>County</th>\n",
       "      <th>County Code</th>\n",
       "      <th>Avg Daily Sunlight (KJ/m²)</th>\n",
       "    </tr>\n",
       "  </thead>\n",
       "  <tbody>\n",
       "    <tr>\n",
       "      <th>0</th>\n",
       "      <td>NaN</td>\n",
       "      <td>Autauga County, AL</td>\n",
       "      <td>01001</td>\n",
       "      <td>17103.72</td>\n",
       "    </tr>\n",
       "    <tr>\n",
       "      <th>1</th>\n",
       "      <td>NaN</td>\n",
       "      <td>Baldwin County, AL</td>\n",
       "      <td>01003</td>\n",
       "      <td>17660.59</td>\n",
       "    </tr>\n",
       "    <tr>\n",
       "      <th>2</th>\n",
       "      <td>NaN</td>\n",
       "      <td>Barbour County, AL</td>\n",
       "      <td>01005</td>\n",
       "      <td>17315.13</td>\n",
       "    </tr>\n",
       "    <tr>\n",
       "      <th>3</th>\n",
       "      <td>NaN</td>\n",
       "      <td>Bibb County, AL</td>\n",
       "      <td>01007</td>\n",
       "      <td>16904.87</td>\n",
       "    </tr>\n",
       "    <tr>\n",
       "      <th>4</th>\n",
       "      <td>NaN</td>\n",
       "      <td>Blount County, AL</td>\n",
       "      <td>01009</td>\n",
       "      <td>16393.63</td>\n",
       "    </tr>\n",
       "  </tbody>\n",
       "</table>\n",
       "</div>"
      ],
      "text/plain": [
       "  Notes              County County Code  Avg Daily Sunlight (KJ/m²)\n",
       "0   NaN  Autauga County, AL       01001                    17103.72\n",
       "1   NaN  Baldwin County, AL       01003                    17660.59\n",
       "2   NaN  Barbour County, AL       01005                    17315.13\n",
       "3   NaN     Bibb County, AL       01007                    16904.87\n",
       "4   NaN   Blount County, AL       01009                    16393.63"
      ]
     },
     "execution_count": 51,
     "metadata": {},
     "output_type": "execute_result"
    }
   ],
   "source": [
    "sunny.head()"
   ]
  },
  {
   "cell_type": "code",
   "execution_count": 15,
   "metadata": {},
   "outputs": [],
   "source": [
    "sunny_data = sunny.iloc[:3111].copy().drop('Notes', axis = 1)"
   ]
  },
  {
   "cell_type": "code",
   "execution_count": 52,
   "metadata": {
    "scrolled": true
   },
   "outputs": [
    {
     "data": {
      "text/html": [
       "<div>\n",
       "<style scoped>\n",
       "    .dataframe tbody tr th:only-of-type {\n",
       "        vertical-align: middle;\n",
       "    }\n",
       "\n",
       "    .dataframe tbody tr th {\n",
       "        vertical-align: top;\n",
       "    }\n",
       "\n",
       "    .dataframe thead th {\n",
       "        text-align: right;\n",
       "    }\n",
       "</style>\n",
       "<table border=\"1\" class=\"dataframe\">\n",
       "  <thead>\n",
       "    <tr style=\"text-align: right;\">\n",
       "      <th></th>\n",
       "      <th>County</th>\n",
       "      <th>County Code</th>\n",
       "      <th>Avg Daily Sunlight (KJ/m²)</th>\n",
       "      <th>state_id</th>\n",
       "      <th>county_id</th>\n",
       "    </tr>\n",
       "  </thead>\n",
       "  <tbody>\n",
       "    <tr>\n",
       "      <th>0</th>\n",
       "      <td>Autauga County, AL</td>\n",
       "      <td>01001</td>\n",
       "      <td>17103.72</td>\n",
       "      <td>01</td>\n",
       "      <td>001</td>\n",
       "    </tr>\n",
       "    <tr>\n",
       "      <th>1</th>\n",
       "      <td>Baldwin County, AL</td>\n",
       "      <td>01003</td>\n",
       "      <td>17660.59</td>\n",
       "      <td>01</td>\n",
       "      <td>003</td>\n",
       "    </tr>\n",
       "    <tr>\n",
       "      <th>2</th>\n",
       "      <td>Barbour County, AL</td>\n",
       "      <td>01005</td>\n",
       "      <td>17315.13</td>\n",
       "      <td>01</td>\n",
       "      <td>005</td>\n",
       "    </tr>\n",
       "    <tr>\n",
       "      <th>3</th>\n",
       "      <td>Bibb County, AL</td>\n",
       "      <td>01007</td>\n",
       "      <td>16904.87</td>\n",
       "      <td>01</td>\n",
       "      <td>007</td>\n",
       "    </tr>\n",
       "    <tr>\n",
       "      <th>4</th>\n",
       "      <td>Blount County, AL</td>\n",
       "      <td>01009</td>\n",
       "      <td>16393.63</td>\n",
       "      <td>01</td>\n",
       "      <td>009</td>\n",
       "    </tr>\n",
       "  </tbody>\n",
       "</table>\n",
       "</div>"
      ],
      "text/plain": [
       "               County County Code  Avg Daily Sunlight (KJ/m²) state_id  \\\n",
       "0  Autauga County, AL       01001                    17103.72       01   \n",
       "1  Baldwin County, AL       01003                    17660.59       01   \n",
       "2  Barbour County, AL       01005                    17315.13       01   \n",
       "3     Bibb County, AL       01007                    16904.87       01   \n",
       "4   Blount County, AL       01009                    16393.63       01   \n",
       "\n",
       "  county_id  \n",
       "0       001  \n",
       "1       003  \n",
       "2       005  \n",
       "3       007  \n",
       "4       009  "
      ]
     },
     "execution_count": 52,
     "metadata": {},
     "output_type": "execute_result"
    }
   ],
   "source": [
    "sunny_data.head()"
   ]
  },
  {
   "cell_type": "code",
   "execution_count": 17,
   "metadata": {},
   "outputs": [],
   "source": [
    "sunny_data['state_id'] = sunny_data['County Code'].str.slice(stop=2)\n",
    "sunny_data['county_id'] = sunny_data['County Code'].str.slice(start=2)"
   ]
  },
  {
   "cell_type": "code",
   "execution_count": 53,
   "metadata": {
    "scrolled": true
   },
   "outputs": [
    {
     "data": {
      "text/html": [
       "<div>\n",
       "<style scoped>\n",
       "    .dataframe tbody tr th:only-of-type {\n",
       "        vertical-align: middle;\n",
       "    }\n",
       "\n",
       "    .dataframe tbody tr th {\n",
       "        vertical-align: top;\n",
       "    }\n",
       "\n",
       "    .dataframe thead th {\n",
       "        text-align: right;\n",
       "    }\n",
       "</style>\n",
       "<table border=\"1\" class=\"dataframe\">\n",
       "  <thead>\n",
       "    <tr style=\"text-align: right;\">\n",
       "      <th></th>\n",
       "      <th>County</th>\n",
       "      <th>County Code</th>\n",
       "      <th>Avg Daily Sunlight (KJ/m²)</th>\n",
       "      <th>state_id</th>\n",
       "      <th>county_id</th>\n",
       "    </tr>\n",
       "  </thead>\n",
       "  <tbody>\n",
       "    <tr>\n",
       "      <th>0</th>\n",
       "      <td>Autauga County, AL</td>\n",
       "      <td>01001</td>\n",
       "      <td>17103.72</td>\n",
       "      <td>01</td>\n",
       "      <td>001</td>\n",
       "    </tr>\n",
       "    <tr>\n",
       "      <th>1</th>\n",
       "      <td>Baldwin County, AL</td>\n",
       "      <td>01003</td>\n",
       "      <td>17660.59</td>\n",
       "      <td>01</td>\n",
       "      <td>003</td>\n",
       "    </tr>\n",
       "    <tr>\n",
       "      <th>2</th>\n",
       "      <td>Barbour County, AL</td>\n",
       "      <td>01005</td>\n",
       "      <td>17315.13</td>\n",
       "      <td>01</td>\n",
       "      <td>005</td>\n",
       "    </tr>\n",
       "    <tr>\n",
       "      <th>3</th>\n",
       "      <td>Bibb County, AL</td>\n",
       "      <td>01007</td>\n",
       "      <td>16904.87</td>\n",
       "      <td>01</td>\n",
       "      <td>007</td>\n",
       "    </tr>\n",
       "    <tr>\n",
       "      <th>4</th>\n",
       "      <td>Blount County, AL</td>\n",
       "      <td>01009</td>\n",
       "      <td>16393.63</td>\n",
       "      <td>01</td>\n",
       "      <td>009</td>\n",
       "    </tr>\n",
       "  </tbody>\n",
       "</table>\n",
       "</div>"
      ],
      "text/plain": [
       "               County County Code  Avg Daily Sunlight (KJ/m²) state_id  \\\n",
       "0  Autauga County, AL       01001                    17103.72       01   \n",
       "1  Baldwin County, AL       01003                    17660.59       01   \n",
       "2  Barbour County, AL       01005                    17315.13       01   \n",
       "3     Bibb County, AL       01007                    16904.87       01   \n",
       "4   Blount County, AL       01009                    16393.63       01   \n",
       "\n",
       "  county_id  \n",
       "0       001  \n",
       "1       003  \n",
       "2       005  \n",
       "3       007  \n",
       "4       009  "
      ]
     },
     "execution_count": 53,
     "metadata": {},
     "output_type": "execute_result"
    }
   ],
   "source": [
    "sunny_data.head()"
   ]
  },
  {
   "cell_type": "code",
   "execution_count": 19,
   "metadata": {},
   "outputs": [],
   "source": [
    "# Create a map between state/county and avg daily sunlight\n",
    "county2sunny = {(row['state_id'],row['county_id']):row['Avg Daily Sunlight (KJ/m²)']\n",
    "                for i, row in sunny_data.iterrows()}"
   ]
  },
  {
   "cell_type": "code",
   "execution_count": 20,
   "metadata": {},
   "outputs": [],
   "source": [
    "# We will need to scale the sunniness values to lie between 0 and 1\n",
    "min_sun = min(county2sunny.values())\n",
    "max_sun = max(county2sunny.values())\n",
    "sun_range = max_sun - min_sun"
   ]
  },
  {
   "cell_type": "code",
   "execution_count": 21,
   "metadata": {},
   "outputs": [],
   "source": [
    "from matplotlib.cm import coolwarm\n",
    "from matplotlib.cm import Reds\n",
    "\n",
    "def calculate_sunny(sun):\n",
    "    # make sunniness a number between 0 and 1\n",
    "    normalized_sun = (sun - min_sun) / sun_range\n",
    "    \n",
    "    # transform the sunniness to a matplotlib color\n",
    "    mpl_color = Reds(normalized_sun)\n",
    "\n",
    "    # transform from a matplotlib color to a valid CSS color\n",
    "    gmaps_color = to_hex(mpl_color, keep_alpha=False)\n",
    "\n",
    "    return gmaps_color"
   ]
  },
  {
   "cell_type": "code",
   "execution_count": 27,
   "metadata": {},
   "outputs": [],
   "source": [
    "sun_colors = []\n",
    "\n",
    "for feature in counties_geojson['features']:\n",
    "    state = feature['properties']['STATE']\n",
    "    county = feature['properties']['COUNTY']\n",
    "    try:\n",
    "        sun = county2sunny[(state,county)]\n",
    "        color = calculate_sunny(sun)\n",
    "    except KeyError:\n",
    "        # no sun for that county: return default color\n",
    "        color = (0, 0, 0, 0.3)\n",
    "    sun_colors.append(color)"
   ]
  },
  {
   "cell_type": "code",
   "execution_count": 60,
   "metadata": {},
   "outputs": [
    {
     "data": {
      "application/vnd.jupyter.widget-view+json": {
       "model_id": "fb9c834bf2414afdab4e42e27a8ecf1d",
       "version_major": 2,
       "version_minor": 0
      },
      "text/plain": [
       "Figure(layout=FigureLayout(height='420px'))"
      ]
     },
     "metadata": {},
     "output_type": "display_data"
    }
   ],
   "source": [
    "fig = gmaps.figure()\n",
    "counties_layer = gmaps.geojson_layer(counties_geojson, fill_color=sun_colors, stroke_color=sun_colors,\n",
    "                                     fill_opacity=0.8)\n",
    "fig.add_layer(counties_layer)\n",
    "install_locs = open_pv_w_loc2[['Lat','Lng']]\n",
    "# hover_text = [\"Size (kW): {}\".format(row['size_kw']) for i, row in open_pv_w_loc2.iterrows()]\n",
    "size = [int(x) for i, x in open_pv_w_loc2['size_normed'].iteritems()]\n",
    "fig.add_layer(gmaps.symbol_layer(install_locs, fill_opacity=.5, stroke_opacity = .5,\n",
    "                                 fill_color = 'blue',\n",
    "                                 stroke_color = 'blue', scale = size))\n",
    "fig"
   ]
  },
  {
   "cell_type": "code",
   "execution_count": 61,
   "metadata": {},
   "outputs": [
    {
     "data": {
      "text/html": [
       "<div>\n",
       "<style scoped>\n",
       "    .dataframe tbody tr th:only-of-type {\n",
       "        vertical-align: middle;\n",
       "    }\n",
       "\n",
       "    .dataframe tbody tr th {\n",
       "        vertical-align: top;\n",
       "    }\n",
       "\n",
       "    .dataframe thead th {\n",
       "        text-align: right;\n",
       "    }\n",
       "</style>\n",
       "<table border=\"1\" class=\"dataframe\">\n",
       "  <thead>\n",
       "    <tr style=\"text-align: right;\">\n",
       "      <th></th>\n",
       "      <th>state</th>\n",
       "      <th>date_installed</th>\n",
       "      <th>incentive_prog_names</th>\n",
       "      <th>type</th>\n",
       "      <th>size_kw</th>\n",
       "      <th>appraised</th>\n",
       "      <th>zipcode</th>\n",
       "      <th>install_type</th>\n",
       "      <th>installer</th>\n",
       "      <th>cost_per_watt</th>\n",
       "      <th>...</th>\n",
       "      <th>State</th>\n",
       "      <th>State Code</th>\n",
       "      <th>Unk1</th>\n",
       "      <th>Unk2</th>\n",
       "      <th>Unk3</th>\n",
       "      <th>Unk4</th>\n",
       "      <th>Lat</th>\n",
       "      <th>Lng</th>\n",
       "      <th>Unk5</th>\n",
       "      <th>size_normed</th>\n",
       "    </tr>\n",
       "  </thead>\n",
       "  <tbody>\n",
       "    <tr>\n",
       "      <th>54</th>\n",
       "      <td>TX</td>\n",
       "      <td>08/11/2016</td>\n",
       "      <td>NaN</td>\n",
       "      <td>uir</td>\n",
       "      <td>31191.00</td>\n",
       "      <td>NaN</td>\n",
       "      <td>75075</td>\n",
       "      <td>Residential</td>\n",
       "      <td>Axium Solar</td>\n",
       "      <td>NaN</td>\n",
       "      <td>...</td>\n",
       "      <td>Texas</td>\n",
       "      <td>TX</td>\n",
       "      <td>Collin</td>\n",
       "      <td>85.0</td>\n",
       "      <td>NaN</td>\n",
       "      <td>NaN</td>\n",
       "      <td>33.0250</td>\n",
       "      <td>-96.7397</td>\n",
       "      <td>4.0</td>\n",
       "      <td>11</td>\n",
       "    </tr>\n",
       "    <tr>\n",
       "      <th>113</th>\n",
       "      <td>TX</td>\n",
       "      <td>09/15/2017</td>\n",
       "      <td>NaN</td>\n",
       "      <td>uir</td>\n",
       "      <td>8791.35</td>\n",
       "      <td>NaN</td>\n",
       "      <td>75024</td>\n",
       "      <td>Commercial</td>\n",
       "      <td>Axium Solar</td>\n",
       "      <td>NaN</td>\n",
       "      <td>...</td>\n",
       "      <td>Texas</td>\n",
       "      <td>TX</td>\n",
       "      <td>Collin</td>\n",
       "      <td>85.0</td>\n",
       "      <td>NaN</td>\n",
       "      <td>NaN</td>\n",
       "      <td>33.0752</td>\n",
       "      <td>-96.7843</td>\n",
       "      <td>4.0</td>\n",
       "      <td>3</td>\n",
       "    </tr>\n",
       "    <tr>\n",
       "      <th>218</th>\n",
       "      <td>AL</td>\n",
       "      <td>01/04/2017</td>\n",
       "      <td>NaN</td>\n",
       "      <td>uir</td>\n",
       "      <td>3000.00</td>\n",
       "      <td>NaN</td>\n",
       "      <td>36912</td>\n",
       "      <td>Commercial</td>\n",
       "      <td>NaN</td>\n",
       "      <td>NaN</td>\n",
       "      <td>...</td>\n",
       "      <td>Alabama</td>\n",
       "      <td>AL</td>\n",
       "      <td>Choctaw</td>\n",
       "      <td>23.0</td>\n",
       "      <td>NaN</td>\n",
       "      <td>NaN</td>\n",
       "      <td>32.2177</td>\n",
       "      <td>-88.3234</td>\n",
       "      <td>4.0</td>\n",
       "      <td>1</td>\n",
       "    </tr>\n",
       "    <tr>\n",
       "      <th>839</th>\n",
       "      <td>IN</td>\n",
       "      <td>11/02/2018</td>\n",
       "      <td>NaN</td>\n",
       "      <td>uir</td>\n",
       "      <td>2721.00</td>\n",
       "      <td>NaN</td>\n",
       "      <td>47711</td>\n",
       "      <td>Commercial</td>\n",
       "      <td>Morton Solar, LLC</td>\n",
       "      <td>1.3</td>\n",
       "      <td>...</td>\n",
       "      <td>Indiana</td>\n",
       "      <td>IN</td>\n",
       "      <td>Vanderburgh</td>\n",
       "      <td>163.0</td>\n",
       "      <td>NaN</td>\n",
       "      <td>NaN</td>\n",
       "      <td>38.0617</td>\n",
       "      <td>-87.5548</td>\n",
       "      <td>4.0</td>\n",
       "      <td>1</td>\n",
       "    </tr>\n",
       "    <tr>\n",
       "      <th>234</th>\n",
       "      <td>TX</td>\n",
       "      <td>01/06/2017</td>\n",
       "      <td>NaN</td>\n",
       "      <td>uir</td>\n",
       "      <td>1111.59</td>\n",
       "      <td>NaN</td>\n",
       "      <td>75211</td>\n",
       "      <td>Commercial</td>\n",
       "      <td>Axium Solar</td>\n",
       "      <td>NaN</td>\n",
       "      <td>...</td>\n",
       "      <td>Texas</td>\n",
       "      <td>TX</td>\n",
       "      <td>Dallas</td>\n",
       "      <td>113.0</td>\n",
       "      <td>NaN</td>\n",
       "      <td>NaN</td>\n",
       "      <td>32.7319</td>\n",
       "      <td>-96.9057</td>\n",
       "      <td>4.0</td>\n",
       "      <td>1</td>\n",
       "    </tr>\n",
       "  </tbody>\n",
       "</table>\n",
       "<p>5 rows × 94 columns</p>\n",
       "</div>"
      ],
      "text/plain": [
       "    state date_installed incentive_prog_names type   size_kw appraised  \\\n",
       "54     TX     08/11/2016                  NaN  uir  31191.00       NaN   \n",
       "113    TX     09/15/2017                  NaN  uir   8791.35       NaN   \n",
       "218    AL     01/04/2017                  NaN  uir   3000.00       NaN   \n",
       "839    IN     11/02/2018                  NaN  uir   2721.00       NaN   \n",
       "234    TX     01/06/2017                  NaN  uir   1111.59       NaN   \n",
       "\n",
       "    zipcode install_type          installer  cost_per_watt     ...       \\\n",
       "54    75075  Residential        Axium Solar            NaN     ...        \n",
       "113   75024   Commercial        Axium Solar            NaN     ...        \n",
       "218   36912   Commercial                NaN            NaN     ...        \n",
       "839   47711   Commercial  Morton Solar, LLC            1.3     ...        \n",
       "234   75211   Commercial        Axium Solar            NaN     ...        \n",
       "\n",
       "       State  State Code         Unk1   Unk2 Unk3 Unk4      Lat      Lng  \\\n",
       "54     Texas          TX       Collin   85.0  NaN  NaN  33.0250 -96.7397   \n",
       "113    Texas          TX       Collin   85.0  NaN  NaN  33.0752 -96.7843   \n",
       "218  Alabama          AL      Choctaw   23.0  NaN  NaN  32.2177 -88.3234   \n",
       "839  Indiana          IN  Vanderburgh  163.0  NaN  NaN  38.0617 -87.5548   \n",
       "234    Texas          TX       Dallas  113.0  NaN  NaN  32.7319 -96.9057   \n",
       "\n",
       "     Unk5  size_normed  \n",
       "54    4.0           11  \n",
       "113   4.0            3  \n",
       "218   4.0            1  \n",
       "839   4.0            1  \n",
       "234   4.0            1  \n",
       "\n",
       "[5 rows x 94 columns]"
      ]
     },
     "execution_count": 61,
     "metadata": {},
     "output_type": "execute_result"
    }
   ],
   "source": [
    "open_pv_w_loc2.sort_values('size_kw', ascending=False).head()"
   ]
  },
  {
   "cell_type": "code",
   "execution_count": 62,
   "metadata": {},
   "outputs": [
    {
     "data": {
      "text/plain": [
       "state                                           TX\n",
       "date_installed                          08/11/2016\n",
       "incentive_prog_names                           NaN\n",
       "type                                           uir\n",
       "size_kw                                      31191\n",
       "appraised                                      NaN\n",
       "zipcode                                      75075\n",
       "install_type                           Residential\n",
       "installer                              Axium Solar\n",
       "cost_per_watt                                  NaN\n",
       "cost                                           NaN\n",
       "lbnl_tts_version_year                          NaN\n",
       "lbnl_tts                                       NaN\n",
       "city                                         Plano\n",
       "utility_clean                                  NaN\n",
       "tech_1                                         NaN\n",
       "model1_clean                                   NaN\n",
       "county                                         NaN\n",
       "annual_PV_prod                                 NaN\n",
       "annual_insolation                              NaN\n",
       "rebate                                         NaN\n",
       "sales_tax_cost                                 NaN\n",
       "tilt1                                          NaN\n",
       "tracking_type                                  NaN\n",
       "azimuth1                                       NaN\n",
       "manuf2_clean                                   NaN\n",
       "manuf3_clean                                   NaN\n",
       "manuf1_clean                                   NaN\n",
       "inv_man_clean                                  NaN\n",
       "reported_annual_energy_prod                    NaN\n",
       "                                      ...         \n",
       "sales_tax_rate                                 NaN\n",
       "sales_tax_cost_real                            NaN\n",
       "bipv_all                                       NaN\n",
       "thinfilm_all                                   NaN\n",
       "china                                          NaN\n",
       "sys_sizeac                                     NaN\n",
       "pbi_rate                                       NaN\n",
       "new_constr                                     NaN\n",
       "effic_1                                        NaN\n",
       "cust_county                                    NaN\n",
       "tracking                                       NaN\n",
       "inv_model_clean                                NaN\n",
       "mod_cost_real                                  NaN\n",
       "inv_cost_real                                  NaN\n",
       "bos_powerclerk_real                            NaN\n",
       "permitting_real                                NaN\n",
       "3rdparty                                       NaN\n",
       "date_installed_dt              2016-08-11 00:00:00\n",
       "Country                                         US\n",
       "City                                         Plano\n",
       "State                                        Texas\n",
       "State Code                                      TX\n",
       "Unk1                                        Collin\n",
       "Unk2                                            85\n",
       "Unk3                                           NaN\n",
       "Unk4                                           NaN\n",
       "Lat                                         33.025\n",
       "Lng                                       -96.7397\n",
       "Unk5                                             4\n",
       "size_normed                                     11\n",
       "Name: 54, Length: 94, dtype: object"
      ]
     },
     "execution_count": 62,
     "metadata": {},
     "output_type": "execute_result"
    }
   ],
   "source": [
    "open_pv_w_loc2.loc[54].T"
   ]
  },
  {
   "cell_type": "markdown",
   "metadata": {},
   "source": [
    "### 1 million points is too many; cluster them using K-Means"
   ]
  },
  {
   "cell_type": "code",
   "execution_count": 28,
   "metadata": {},
   "outputs": [],
   "source": [
    "open_pv_cluster = open_pv[open_pv['zipcode'].notnull()].copy()"
   ]
  },
  {
   "cell_type": "code",
   "execution_count": 29,
   "metadata": {},
   "outputs": [],
   "source": [
    "open_pv_cluster2 = pd.merge(open_pv_cluster, zip_code_info, how = 'left', on = 'zipcode')"
   ]
  },
  {
   "cell_type": "code",
   "execution_count": 30,
   "metadata": {},
   "outputs": [],
   "source": [
    "open_pv_cluster3 = open_pv_cluster2[open_pv_cluster2['Lat'].notnull() & open_pv_cluster2['Lng'].notnull()].copy()"
   ]
  },
  {
   "cell_type": "code",
   "execution_count": 31,
   "metadata": {},
   "outputs": [],
   "source": [
    "open_pv_cluster4 = open_pv_cluster3[open_pv_cluster3['date_installed_dt'] > '1993'].copy()"
   ]
  },
  {
   "cell_type": "code",
   "execution_count": 32,
   "metadata": {},
   "outputs": [],
   "source": [
    "# open_pv_cluster4 = open_pv_cluster3.copy()"
   ]
  },
  {
   "cell_type": "code",
   "execution_count": 33,
   "metadata": {},
   "outputs": [
    {
     "data": {
      "text/plain": [
       "(1020545, 93)"
      ]
     },
     "execution_count": 33,
     "metadata": {},
     "output_type": "execute_result"
    }
   ],
   "source": [
    "open_pv_cluster4.shape"
   ]
  },
  {
   "cell_type": "code",
   "execution_count": 35,
   "metadata": {},
   "outputs": [
    {
     "name": "stdout",
     "output_type": "stream",
     "text": [
      "2019-04-05 16:31:26.400304\n"
     ]
    },
    {
     "name": "stderr",
     "output_type": "stream",
     "text": [
      "/anaconda3/lib/python3.7/site-packages/sklearn/cluster/k_means_.py:1559: RuntimeWarning: init_size=300 should be larger than k=1000. Setting it to 3*k\n",
      "  init_size=init_size)\n",
      "/anaconda3/lib/python3.7/site-packages/sklearn/cluster/k_means_.py:1559: RuntimeWarning: init_size=300 should be larger than k=1000. Setting it to 3*k\n",
      "  init_size=init_size)\n",
      "/anaconda3/lib/python3.7/site-packages/sklearn/cluster/k_means_.py:1559: RuntimeWarning: init_size=300 should be larger than k=1000. Setting it to 3*k\n",
      "  init_size=init_size)\n"
     ]
    },
    {
     "name": "stdout",
     "output_type": "stream",
     "text": [
      "2019-04-05 16:31:34.826157\n"
     ]
    }
   ],
   "source": [
    "from sklearn.cluster import MiniBatchKMeans\n",
    "from datetime import datetime\n",
    "\n",
    "print(datetime.now())\n",
    "\n",
    "X = open_pv_cluster4[['Lat','Lng']]\n",
    "\n",
    "kmeans = MiniBatchKMeans(n_clusters=1000, random_state=0, batch_size=100).fit(X)\n",
    "\n",
    "print(datetime.now())"
   ]
  },
  {
   "cell_type": "code",
   "execution_count": 36,
   "metadata": {},
   "outputs": [],
   "source": [
    "open_pv_cluster4['new_loc_ind'] = kmeans.predict(X)"
   ]
  },
  {
   "cell_type": "code",
   "execution_count": 37,
   "metadata": {},
   "outputs": [],
   "source": [
    "new_locs = pd.DataFrame(kmeans.cluster_centers_, columns = ['new_lat','new_lng'])"
   ]
  },
  {
   "cell_type": "code",
   "execution_count": 38,
   "metadata": {},
   "outputs": [],
   "source": [
    "open_pv_cluster5 = pd.merge(open_pv_cluster4, new_locs, how = 'left', left_on = 'new_loc_ind', right_index = True)"
   ]
  },
  {
   "cell_type": "code",
   "execution_count": 39,
   "metadata": {
    "scrolled": true
   },
   "outputs": [
    {
     "data": {
      "text/html": [
       "<div>\n",
       "<style scoped>\n",
       "    .dataframe tbody tr th:only-of-type {\n",
       "        vertical-align: middle;\n",
       "    }\n",
       "\n",
       "    .dataframe tbody tr th {\n",
       "        vertical-align: top;\n",
       "    }\n",
       "\n",
       "    .dataframe thead th {\n",
       "        text-align: right;\n",
       "    }\n",
       "</style>\n",
       "<table border=\"1\" class=\"dataframe\">\n",
       "  <thead>\n",
       "    <tr style=\"text-align: right;\">\n",
       "      <th></th>\n",
       "      <th>state</th>\n",
       "      <th>date_installed</th>\n",
       "      <th>incentive_prog_names</th>\n",
       "      <th>type</th>\n",
       "      <th>size_kw</th>\n",
       "      <th>appraised</th>\n",
       "      <th>zipcode</th>\n",
       "      <th>install_type</th>\n",
       "      <th>installer</th>\n",
       "      <th>cost_per_watt</th>\n",
       "      <th>...</th>\n",
       "      <th>Unk1</th>\n",
       "      <th>Unk2</th>\n",
       "      <th>Unk3</th>\n",
       "      <th>Unk4</th>\n",
       "      <th>Lat</th>\n",
       "      <th>Lng</th>\n",
       "      <th>Unk5</th>\n",
       "      <th>new_loc_ind</th>\n",
       "      <th>new_lat</th>\n",
       "      <th>new_lng</th>\n",
       "    </tr>\n",
       "  </thead>\n",
       "  <tbody>\n",
       "    <tr>\n",
       "      <th>0</th>\n",
       "      <td>TX</td>\n",
       "      <td>12/12/2013</td>\n",
       "      <td>Austin Energy</td>\n",
       "      <td>uir</td>\n",
       "      <td>10.560</td>\n",
       "      <td>NaN</td>\n",
       "      <td>78702</td>\n",
       "      <td>residential</td>\n",
       "      <td>NaN</td>\n",
       "      <td>2.897777</td>\n",
       "      <td>...</td>\n",
       "      <td>Travis</td>\n",
       "      <td>453.0</td>\n",
       "      <td>NaN</td>\n",
       "      <td>NaN</td>\n",
       "      <td>30.2638</td>\n",
       "      <td>-97.7166</td>\n",
       "      <td>4.0</td>\n",
       "      <td>543</td>\n",
       "      <td>30.28405</td>\n",
       "      <td>-97.6632</td>\n",
       "    </tr>\n",
       "    <tr>\n",
       "      <th>1</th>\n",
       "      <td>TX</td>\n",
       "      <td>07/11/2014</td>\n",
       "      <td>Austin Energy</td>\n",
       "      <td>uir</td>\n",
       "      <td>12.720</td>\n",
       "      <td>NaN</td>\n",
       "      <td>78702</td>\n",
       "      <td>residential</td>\n",
       "      <td>NaN</td>\n",
       "      <td>3.144654</td>\n",
       "      <td>...</td>\n",
       "      <td>Travis</td>\n",
       "      <td>453.0</td>\n",
       "      <td>NaN</td>\n",
       "      <td>NaN</td>\n",
       "      <td>30.2638</td>\n",
       "      <td>-97.7166</td>\n",
       "      <td>4.0</td>\n",
       "      <td>543</td>\n",
       "      <td>30.28405</td>\n",
       "      <td>-97.6632</td>\n",
       "    </tr>\n",
       "    <tr>\n",
       "      <th>2</th>\n",
       "      <td>TX</td>\n",
       "      <td>01/17/2014</td>\n",
       "      <td>Austin Energy</td>\n",
       "      <td>uir</td>\n",
       "      <td>5.400</td>\n",
       "      <td>NaN</td>\n",
       "      <td>78702</td>\n",
       "      <td>residential</td>\n",
       "      <td>NaN</td>\n",
       "      <td>4.197330</td>\n",
       "      <td>...</td>\n",
       "      <td>Travis</td>\n",
       "      <td>453.0</td>\n",
       "      <td>NaN</td>\n",
       "      <td>NaN</td>\n",
       "      <td>30.2638</td>\n",
       "      <td>-97.7166</td>\n",
       "      <td>4.0</td>\n",
       "      <td>543</td>\n",
       "      <td>30.28405</td>\n",
       "      <td>-97.6632</td>\n",
       "    </tr>\n",
       "    <tr>\n",
       "      <th>3</th>\n",
       "      <td>IN</td>\n",
       "      <td>10/06/2017</td>\n",
       "      <td>NaN</td>\n",
       "      <td>uir</td>\n",
       "      <td>6.785</td>\n",
       "      <td>NaN</td>\n",
       "      <td>47403</td>\n",
       "      <td>Residential</td>\n",
       "      <td>Whole Sun Designs</td>\n",
       "      <td>2.590000</td>\n",
       "      <td>...</td>\n",
       "      <td>Monroe</td>\n",
       "      <td>105.0</td>\n",
       "      <td>NaN</td>\n",
       "      <td>NaN</td>\n",
       "      <td>39.1263</td>\n",
       "      <td>-86.5769</td>\n",
       "      <td>4.0</td>\n",
       "      <td>108</td>\n",
       "      <td>38.17060</td>\n",
       "      <td>-87.0070</td>\n",
       "    </tr>\n",
       "    <tr>\n",
       "      <th>4</th>\n",
       "      <td>IN</td>\n",
       "      <td>10/06/2017</td>\n",
       "      <td>NaN</td>\n",
       "      <td>uir</td>\n",
       "      <td>4.720</td>\n",
       "      <td>NaN</td>\n",
       "      <td>47408</td>\n",
       "      <td>Residential</td>\n",
       "      <td>Whole Sun Designs</td>\n",
       "      <td>2.570000</td>\n",
       "      <td>...</td>\n",
       "      <td>Monroe</td>\n",
       "      <td>105.0</td>\n",
       "      <td>NaN</td>\n",
       "      <td>NaN</td>\n",
       "      <td>39.2303</td>\n",
       "      <td>-86.4692</td>\n",
       "      <td>4.0</td>\n",
       "      <td>108</td>\n",
       "      <td>38.17060</td>\n",
       "      <td>-87.0070</td>\n",
       "    </tr>\n",
       "  </tbody>\n",
       "</table>\n",
       "<p>5 rows × 96 columns</p>\n",
       "</div>"
      ],
      "text/plain": [
       "  state date_installed incentive_prog_names type  size_kw appraised zipcode  \\\n",
       "0    TX     12/12/2013        Austin Energy  uir   10.560       NaN   78702   \n",
       "1    TX     07/11/2014        Austin Energy  uir   12.720       NaN   78702   \n",
       "2    TX     01/17/2014        Austin Energy  uir    5.400       NaN   78702   \n",
       "3    IN     10/06/2017                  NaN  uir    6.785       NaN   47403   \n",
       "4    IN     10/06/2017                  NaN  uir    4.720       NaN   47408   \n",
       "\n",
       "  install_type          installer  cost_per_watt   ...       Unk1   Unk2 Unk3  \\\n",
       "0  residential                NaN       2.897777   ...     Travis  453.0  NaN   \n",
       "1  residential                NaN       3.144654   ...     Travis  453.0  NaN   \n",
       "2  residential                NaN       4.197330   ...     Travis  453.0  NaN   \n",
       "3  Residential  Whole Sun Designs       2.590000   ...     Monroe  105.0  NaN   \n",
       "4  Residential  Whole Sun Designs       2.570000   ...     Monroe  105.0  NaN   \n",
       "\n",
       "  Unk4      Lat      Lng Unk5 new_loc_ind   new_lat  new_lng  \n",
       "0  NaN  30.2638 -97.7166  4.0         543  30.28405 -97.6632  \n",
       "1  NaN  30.2638 -97.7166  4.0         543  30.28405 -97.6632  \n",
       "2  NaN  30.2638 -97.7166  4.0         543  30.28405 -97.6632  \n",
       "3  NaN  39.1263 -86.5769  4.0         108  38.17060 -87.0070  \n",
       "4  NaN  39.2303 -86.4692  4.0         108  38.17060 -87.0070  \n",
       "\n",
       "[5 rows x 96 columns]"
      ]
     },
     "execution_count": 39,
     "metadata": {},
     "output_type": "execute_result"
    }
   ],
   "source": [
    "open_pv_cluster5.head()"
   ]
  },
  {
   "cell_type": "code",
   "execution_count": 40,
   "metadata": {},
   "outputs": [],
   "source": [
    "# Combine the clustered (re-mapped) points and sum the kW sizes of the installs\n",
    "open_pv_cluster6 = open_pv_cluster5.groupby(['new_loc_ind','new_lat','new_lng'])['size_kw'].sum().reset_index()"
   ]
  },
  {
   "cell_type": "code",
   "execution_count": 41,
   "metadata": {},
   "outputs": [
    {
     "data": {
      "text/plain": [
       "(977, 4)"
      ]
     },
     "execution_count": 41,
     "metadata": {},
     "output_type": "execute_result"
    }
   ],
   "source": [
    "open_pv_cluster6.shape"
   ]
  },
  {
   "cell_type": "code",
   "execution_count": 42,
   "metadata": {},
   "outputs": [],
   "source": [
    "# Norm the kW size\n",
    "min_size = open_pv_cluster6['size_kw'].min()\n",
    "max_size = open_pv_cluster6['size_kw'].max()\n",
    "size_range = max_size - min_size\n",
    "open_pv_cluster6['size_normed'] = (10 * (open_pv_cluster6['size_kw'] - min_size)/size_range + 1).astype(int)"
   ]
  },
  {
   "cell_type": "code",
   "execution_count": 43,
   "metadata": {},
   "outputs": [
    {
     "data": {
      "application/vnd.jupyter.widget-view+json": {
       "model_id": "f8be5967b25443848d187fa451dc63c6",
       "version_major": 2,
       "version_minor": 0
      },
      "text/plain": [
       "Figure(layout=FigureLayout(height='420px'))"
      ]
     },
     "metadata": {},
     "output_type": "display_data"
    }
   ],
   "source": [
    "fig = gmaps.figure()\n",
    "counties_layer = gmaps.geojson_layer(counties_geojson, fill_color=sun_colors, stroke_color=sun_colors,\n",
    "                                     fill_opacity=0.8)\n",
    "fig.add_layer(counties_layer)\n",
    "install_locs = open_pv_cluster6[['new_lat','new_lng']]\n",
    "# hover_text = [\"Size (kW): {}\".format(row['size_kw']) for i, row in open_pv_w_loc2.iterrows()]\n",
    "size = [int(x) for i, x in open_pv_cluster6['size_normed'].iteritems()]\n",
    "fig.add_layer(gmaps.symbol_layer(install_locs, fill_opacity=.5, stroke_opacity = .5,\n",
    "                                 fill_color = 'blue',\n",
    "                                 stroke_color = 'blue', scale = size))\n",
    "fig"
   ]
  },
  {
   "cell_type": "markdown",
   "metadata": {},
   "source": [
    "### Higher unemployment and higher sunniness\n",
    "\n",
    "1. Combine unemployment rate and sunniness into a new measure\n",
    "2. Plot this combined measure against solar panel installs\n",
    "3. Places where the combined rate is high and solar panel installs are low are potential untapped labor markets for green jobs"
   ]
  },
  {
   "cell_type": "code",
   "execution_count": 62,
   "metadata": {},
   "outputs": [],
   "source": [
    "from matplotlib.cm import Blues\n",
    "\n",
    "def calculate_sun_ur(sun, ur):\n",
    "    # make sunniness a number between 0 and 1\n",
    "    normalized_sun = (sun - min_sun) / sun_range\n",
    "    \n",
    "    # make ur a number between 0 and 1\n",
    "    normalized_ur = (ur - min_ur) / ur_range\n",
    "    \n",
    "    # combine both rates using harmonic mean\n",
    "    comb_rate = 2*(normalized_sun * normalized_ur)/(normalized_sun + normalized_ur)\n",
    "    \n",
    "    # transform the combined rate to a matplotlib color\n",
    "    mpl_color = Blues(normalized_sun)\n",
    "\n",
    "    # transform from a matplotlib color to a valid CSS color\n",
    "    gmaps_color = to_hex(mpl_color, keep_alpha=False)\n",
    "\n",
    "    return gmaps_color"
   ]
  },
  {
   "cell_type": "code",
   "execution_count": 63,
   "metadata": {},
   "outputs": [],
   "source": [
    "comb_colors = []\n",
    "\n",
    "for feature in counties_geojson['features']:\n",
    "    state = feature['properties']['STATE']\n",
    "    county = feature['properties']['COUNTY']\n",
    "    try:\n",
    "        sun = county2sunny[(state,county)]\n",
    "        ur = county2unemploy[(state,county)]\n",
    "        color = calculate_sun_ur(sun, ur)\n",
    "    except KeyError:\n",
    "        # no value for that county: return default color\n",
    "        color = (0, 0, 0, 0.3)\n",
    "    comb_colors.append(color)"
   ]
  },
  {
   "cell_type": "code",
   "execution_count": 65,
   "metadata": {},
   "outputs": [
    {
     "data": {
      "application/vnd.jupyter.widget-view+json": {
       "model_id": "f79e93fac52444f59a8671eed1836265",
       "version_major": 2,
       "version_minor": 0
      },
      "text/plain": [
       "Figure(layout=FigureLayout(height='420px'))"
      ]
     },
     "metadata": {},
     "output_type": "display_data"
    }
   ],
   "source": [
    "fig = gmaps.figure()\n",
    "comb_counties_layer = gmaps.geojson_layer(counties_geojson, fill_color=comb_colors, stroke_color=comb_colors, fill_opacity=0.8)\n",
    "fig.add_layer(comb_counties_layer)\n",
    "install_locs = open_pv_cluster6[['new_lat','new_lng']]\n",
    "# hover_text = [\"Size (kW): {}\".format(row['size_kw']) for i, row in open_pv_w_loc2.iterrows()]\n",
    "size = [int(x) for i, x in open_pv_cluster6['size_normed'].iteritems()]\n",
    "fig.add_layer(gmaps.symbol_layer(install_locs, fill_opacity=.5, stroke_opacity = .5,\n",
    "                                 fill_color = 'blue',\n",
    "                                 stroke_color = 'blue', scale = size))\n",
    "fig"
   ]
  }
 ],
 "metadata": {
  "kernelspec": {
   "display_name": "Python 3",
   "language": "python",
   "name": "python3"
  },
  "language_info": {
   "codemirror_mode": {
    "name": "ipython",
    "version": 3
   },
   "file_extension": ".py",
   "mimetype": "text/x-python",
   "name": "python",
   "nbconvert_exporter": "python",
   "pygments_lexer": "ipython3",
   "version": "3.7.1"
  }
 },
 "nbformat": 4,
 "nbformat_minor": 2
}
